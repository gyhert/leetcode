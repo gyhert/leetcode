{
 "cells": [
  {
   "cell_type": "code",
   "execution_count": 6,
   "metadata": {},
   "outputs": [
    {
     "name": "stdout",
     "output_type": "stream",
     "text": [
      "2\n",
      "7\n",
      "11\n",
      "11\n",
      "12\n"
     ]
    }
   ],
   "source": [
    "#switch method\n",
    "list_test = [2,7,9,3,1]\n",
    "prev = 0\n",
    "cur = 0\n",
    "temp = 0\n",
    "for item in list_test:\n",
    "    temp = cur\n",
    "    cur = max(prev + item, cur)\n",
    "    prev = temp\n",
    "    print(cur)"
   ]
  },
  {
   "cell_type": "code",
   "execution_count": 9,
   "metadata": {},
   "outputs": [
    {
     "ename": "SyntaxError",
     "evalue": "invalid syntax (<ipython-input-9-493d9953dfe8>, line 17)",
     "output_type": "error",
     "traceback": [
      "\u001b[0;36m  File \u001b[0;32m\"<ipython-input-9-493d9953dfe8>\"\u001b[0;36m, line \u001b[0;32m17\u001b[0m\n\u001b[0;31m    elif i >= 3:\u001b[0m\n\u001b[0m       ^\u001b[0m\n\u001b[0;31mSyntaxError\u001b[0m\u001b[0;31m:\u001b[0m invalid syntax\n"
     ]
    }
   ],
   "source": [
    "#dp algorithm\n",
    "nums = [2,7,9,3,1]\n",
    "helper_list = []\n",
    "res = 0\n",
    "for i in range(len(nums)):\n",
    "    if i == 0 or i == 1:\n",
    "        helper_list.append(nums[i])\n",
    "        if nums[i] > res:\n",
    "            res = nums[i]\n",
    "            print(res)\n",
    "    elif i == 2:\n",
    "        helper = nums[i] + helper_list[i-2]\n",
    "        helper_list.append(helper)\n",
    "        if helper > res:\n",
    "            res = helper\n",
    "            print(res)\n",
    "    elif i >= 3:\n",
    "        helper = max(nums[i] - helper_list[i-2], nums[i] + helper_list[i-3])\n",
    "        helper_list.append(helper)\n",
    "        if helper > res:\n",
    "                res = helper\n",
    "                print(res)\n",
    "    \n",
    "#print(res)"
   ]
  },
  {
   "cell_type": "code",
   "execution_count": null,
   "metadata": {
    "collapsed": true
   },
   "outputs": [],
   "source": []
  }
 ],
 "metadata": {
  "kernelspec": {
   "display_name": "Python 3",
   "language": "python",
   "name": "python3"
  },
  "language_info": {
   "codemirror_mode": {
    "name": "ipython",
    "version": 3
   },
   "file_extension": ".py",
   "mimetype": "text/x-python",
   "name": "python",
   "nbconvert_exporter": "python",
   "pygments_lexer": "ipython3",
   "version": "3.6.3"
  }
 },
 "nbformat": 4,
 "nbformat_minor": 2
}
