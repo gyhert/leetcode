{
 "cells": [
  {
   "cell_type": "code",
   "execution_count": 19,
   "metadata": {},
   "outputs": [
    {
     "name": "stdout",
     "output_type": "stream",
     "text": [
      "[[0, 0, 0, 0, 0, 0, 0, 0, 0, 0, 0], [0, 0, 0, 0, 0, 0, 0, 0, 0, 0, 0], [0, 0, 0, 0, 0, 0, 0, 0, 0, 0, 0], [0, 0, 0, 0, 0, 0, 0, 0, 0, 0, 0], [0, 0, 0, 0, 0, 0, 0, 0, 0, 0, 0], [0, 0, 0, 0, 0, 0, 0, 0, 0, 0, 0], [0, 0, 0, 0, 0, 0, 0, 0, 0, 0, 0], [0, 0, 0, 0, 0, 0, 0, 0, 0, 0, 0], [0, 0, 0, 0, 0, 0, 0, 0, 0, 0, 0], [0, 0, 0, 0, 0, 0, 0, 0, 0, 0, 0], [0, 0, 0, 0, 0, 0, 0, 0, 0, 0, 0]]\n",
      "9223372036854775807\n",
      "5\n"
     ]
    }
   ],
   "source": [
    "import sys\n",
    "n = 10\n",
    "table = [[0 for j in range(n+1)] for i in range(n+1)]\n",
    "print(table)\n",
    "print(sys.maxsize)\n",
    "def getMoneyAmount(n):\n",
    "    #n = 10\n",
    "    table = [[0 for j in range(n+1)] for i in range(n+1)]\n",
    "    return cost(table, 1, n)\n",
    "def cost(table, s, e):\n",
    "    res = e\n",
    "    if s >= e: return 0\n",
    "    if table[s][e] != 0: return table[s][e]\n",
    "    for i in range(s,e+1):\n",
    "        temp = i + max(cost(table, s, i - 1), cost(table, i + 1, e))\n",
    "        res = min(res, temp)\n",
    "    table[s][e] = res\n",
    "    return res\n",
    "print(cost(table, 1, 5))\n",
    "#print(getMoneyAmount(10))"
   ]
  },
  {
   "cell_type": "code",
   "execution_count": 26,
   "metadata": {},
   "outputs": [
    {
     "name": "stdout",
     "output_type": "stream",
     "text": [
      "6\n"
     ]
    }
   ],
   "source": [
    "\n",
    "def getMoneyAmount(n):\n",
    "    table = [[0 for j in range(n+1)] for i in range(n+1)]\n",
    "    for j in range(2,n+1):\n",
    "        for i in range(j-1,0,-1):\n",
    "            globalMin = n\n",
    "            for k in range(i+1,j):\n",
    "                localMax = k + max(table[i][k-1], table[k+1][j])\n",
    "                globalMin = min(globalMin, localMax)\n",
    "            if i + 1 == j:\n",
    "                table[i][j] = i\n",
    "            else:\n",
    "                table[i][j] = globalMin\n",
    "    return table[1][n]\n",
    "n = 6\n",
    "print(getMoneyAmount(n))\n",
    "            \n",
    "    "
   ]
  },
  {
   "cell_type": "code",
   "execution_count": null,
   "metadata": {
    "collapsed": true
   },
   "outputs": [],
   "source": []
  }
 ],
 "metadata": {
  "kernelspec": {
   "display_name": "Python 3",
   "language": "python",
   "name": "python3"
  },
  "language_info": {
   "codemirror_mode": {
    "name": "ipython",
    "version": 3
   },
   "file_extension": ".py",
   "mimetype": "text/x-python",
   "name": "python",
   "nbconvert_exporter": "python",
   "pygments_lexer": "ipython3",
   "version": "3.6.3"
  }
 },
 "nbformat": 4,
 "nbformat_minor": 2
}
