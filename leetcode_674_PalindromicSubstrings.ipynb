{
 "cells": [
  {
   "cell_type": "code",
   "execution_count": 24,
   "metadata": {},
   "outputs": [
    {
     "name": "stdout",
     "output_type": "stream",
     "text": [
      "12\n"
     ]
    }
   ],
   "source": [
    "#Leetcode647 center solution: o(n^2) space: o(n)\n",
    "s = \"gdfsdfsjfhf\"\n",
    "N = len(s)\n",
    "ans = 0\n",
    "for center in range(2*N-1):\n",
    "    left = int(center/2)\n",
    "    #print(left)\n",
    "    right = left + center%2\n",
    "    #print(left,right)\n",
    "    while left >= 0 and right < N and s[left] == s[right]:\n",
    "        ans += 1\n",
    "        left -= 1\n",
    "        right += 1\n",
    "print(ans)"
   ]
  },
  {
   "cell_type": "code",
   "execution_count": 25,
   "metadata": {},
   "outputs": [
    {
     "name": "stdout",
     "output_type": "stream",
     "text": [
      "False\n",
      "5\n",
      "5\n",
      "8\n"
     ]
    }
   ],
   "source": [
    "#leetcode674 dp solution\n",
    "#define palindromic\n",
    "def isPalindromic(s):\n",
    "    for i in range(int(len(s)/2)):\n",
    "        if s[i] != s[len(s) - 1 - i]:\n",
    "            return False\n",
    "    return True\n",
    "        \n",
    "\n",
    "#dp main function using one dimension\n",
    "def countSubstrings(s):\n",
    "    l = len(s)\n",
    "    dp = [0]*l\n",
    "    print(len(dp))\n",
    "    for i in range(1,l):\n",
    "        tmpNum = 0\n",
    "        for j in range(i):\n",
    "            if s[i] == s[j]:\n",
    "                substring = s[j:i+1]\n",
    "                if isPalindromic(substring):\n",
    "                    tmpNum += 1\n",
    "        dp[i] = dp[i-1] + tmpNum\n",
    "    return dp[l-1] + l\n",
    "\n",
    "s1 = \"fdfdd\"\n",
    "print(isPalindromic(s1))\n",
    "l = len(s1)\n",
    "dp = [0]*l\n",
    "print(len(dp))\n",
    "print(countSubstrings(s1))"
   ]
  },
  {
   "cell_type": "code",
   "execution_count": 26,
   "metadata": {},
   "outputs": [
    {
     "name": "stdout",
     "output_type": "stream",
     "text": [
      "6\n"
     ]
    }
   ],
   "source": [
    "input = \"ssssdd\"\n",
    "output = countSubstrings(input)"
   ]
  },
  {
   "cell_type": "code",
   "execution_count": null,
   "metadata": {
    "collapsed": true
   },
   "outputs": [],
   "source": []
  }
 ],
 "metadata": {
  "kernelspec": {
   "display_name": "Python 3",
   "language": "python",
   "name": "python3"
  },
  "language_info": {
   "codemirror_mode": {
    "name": "ipython",
    "version": 3
   },
   "file_extension": ".py",
   "mimetype": "text/x-python",
   "name": "python",
   "nbconvert_exporter": "python",
   "pygments_lexer": "ipython3",
   "version": "3.6.3"
  }
 },
 "nbformat": 4,
 "nbformat_minor": 2
}
