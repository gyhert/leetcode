{
 "cells": [
  {
   "cell_type": "code",
   "execution_count": 3,
   "metadata": {},
   "outputs": [
    {
     "name": "stdout",
     "output_type": "stream",
     "text": [
      "[997, 988, 972, 966, 965, 953, 947, 939, 920, 915, 903, 896, 884, 878, 860, 843, 834, 828, 825, 823, 812, 801, 799, 787, 762, 762, 724, 719, 699, 695, 677, 659, 654, 629, 626, 618, 615, 607, 602, 599, 593, 573, 573, 551, 548, 529, 515, 510, 506, 494, 492, 488, 482, 478, 449, 438, 432, 407, 396, 387, 376, 371, 368, 359, 354, 348, 337, 336, 335, 328, 289, 287, 275, 273, 266, 255, 245, 237, 218, 207, 174, 166, 164, 156, 155, 150, 146, 133, 129, 97, 49, 46, 40, 28, 25, 24, 22, 15, 15, 3]\n"
     ]
    }
   ],
   "source": [
    "import random \n",
    "def bubblesort(target):\n",
    "    length = len(target)\n",
    "    while length > 0:\n",
    "        length -= 1\n",
    "        cur = 0\n",
    "        while cur < length:\n",
    "            if target[cur] < target[cur + 1]:\n",
    "                target[cur], target[cur + 1] = target[cur + 1] , target[cur]\n",
    "            cur += 1\n",
    "    return target\n",
    "\n",
    "if __name__ == '__main__':\n",
    "    a = [random.randint(1, 1000) for i in range(100)]\n",
    "    print(bubblesort(a))"
   ]
  },
  {
   "cell_type": "code",
   "execution_count": null,
   "metadata": {
    "collapsed": true
   },
   "outputs": [],
   "source": []
  }
 ],
 "metadata": {
  "kernelspec": {
   "display_name": "Python 3",
   "language": "python",
   "name": "python3"
  },
  "language_info": {
   "codemirror_mode": {
    "name": "ipython",
    "version": 3
   },
   "file_extension": ".py",
   "mimetype": "text/x-python",
   "name": "python",
   "nbconvert_exporter": "python",
   "pygments_lexer": "ipython3",
   "version": "3.6.3"
  }
 },
 "nbformat": 4,
 "nbformat_minor": 2
}
