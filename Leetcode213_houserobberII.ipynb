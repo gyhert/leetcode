{
 "cells": [
  {
   "cell_type": "code",
   "execution_count": 9,
   "metadata": {},
   "outputs": [
    {
     "name": "stdout",
     "output_type": "stream",
     "text": [
      "1 3\n",
      "2 5\n",
      "4 6\n",
      "4 6\n",
      "4 6\n"
     ]
    }
   ],
   "source": [
    "nums = [1,2,3,1,3]\n",
    "n = len(nums)\n",
    "if n == 0:\n",
    "    res = 0\n",
    "if n == 1:\n",
    "    res = nums[0]\n",
    "dp1 = [0, nums[0]]\n",
    "dp2 = [nums[n-1], nums[n-1]]\n",
    "print(dp1[-1], dp2[-1])\n",
    "for i in range(2,n):\n",
    "    dp1.append(max(dp1[i-1], nums[i-1] + dp1[i-2]))\n",
    "    dp2.append(max(dp2[i-1], nums[i-1] + dp2[i-2]))\n",
    "    print(dp1[-1], dp2[-1])\n",
    "print(dp1[-1], dp2[-1])"
   ]
  },
  {
   "cell_type": "code",
   "execution_count": null,
   "metadata": {
    "collapsed": true
   },
   "outputs": [],
   "source": []
  }
 ],
 "metadata": {
  "kernelspec": {
   "display_name": "Python 3",
   "language": "python",
   "name": "python3"
  },
  "language_info": {
   "codemirror_mode": {
    "name": "ipython",
    "version": 3
   },
   "file_extension": ".py",
   "mimetype": "text/x-python",
   "name": "python",
   "nbconvert_exporter": "python",
   "pygments_lexer": "ipython3",
   "version": "3.6.3"
  }
 },
 "nbformat": 4,
 "nbformat_minor": 2
}
