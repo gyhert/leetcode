{
 "cells": [
  {
   "cell_type": "code",
   "execution_count": 1,
   "metadata": {},
   "outputs": [
    {
     "name": "stdout",
     "output_type": "stream",
     "text": [
      "2 0\n",
      "7 2\n",
      "11 7\n",
      "11 11\n",
      "12 11\n"
     ]
    }
   ],
   "source": [
    "list_test = [2,7,9,3,1]\n",
    "prev = 0\n",
    "cur = 0\n",
    "temp = 0\n",
    "for item in list_test:\n",
    "    temp = cur\n",
    "    cur = max(prev + item, cur)\n",
    "    prev = temp\n",
    "    print(cur,temp)"
   ]
  },
  {
   "cell_type": "code",
   "execution_count": null,
   "metadata": {
    "collapsed": true
   },
   "outputs": [],
   "source": [
    "list_test = [2,7,9,3,1]\n",
    "res = 0\n"
   ]
  }
 ],
 "metadata": {
  "kernelspec": {
   "display_name": "Python 3",
   "language": "python",
   "name": "python3"
  },
  "language_info": {
   "codemirror_mode": {
    "name": "ipython",
    "version": 3
   },
   "file_extension": ".py",
   "mimetype": "text/x-python",
   "name": "python",
   "nbconvert_exporter": "python",
   "pygments_lexer": "ipython3",
   "version": "3.6.3"
  }
 },
 "nbformat": 4,
 "nbformat_minor": 2
}
