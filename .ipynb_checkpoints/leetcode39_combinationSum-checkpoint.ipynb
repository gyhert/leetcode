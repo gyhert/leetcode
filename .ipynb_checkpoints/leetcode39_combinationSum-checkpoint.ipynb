{
 "cells": [
  {
   "cell_type": "code",
   "execution_count": 6,
   "metadata": {},
   "outputs": [
    {
     "name": "stdout",
     "output_type": "stream",
     "text": [
      "[1, 2, 3, 6, 7]\n"
     ]
    },
    {
     "data": {
      "text/plain": [
       "'\\ndef backtrack(res, templist, nums, remain, start):\\n    if remain < 0:\\n        return None\\n    elif remain == 0:\\n        res.append(templist)\\n    else:\\n        for i in range(len(nums)):\\n            templist.append(nums[i])\\n            backtrack(res,templist, nums, remain- nums[i], i)\\n            del templist\\n\\ndef combinationSum(nums, target):\\n    res = []\\n    nums.sort()\\n    backtrack(res, nums, target, 0)\\n'"
      ]
     },
     "execution_count": 6,
     "metadata": {},
     "output_type": "execute_result"
    }
   ],
   "source": [
    "candidates = [2, 1, 3, 6, 7]\n",
    "target = 7\n",
    "candidates.sort()\n",
    "print(candidates)\n",
    "\n",
    "res = []\n",
    "templist = []\n",
    "nums = []\n",
    "for i in range(len(nums)):\n",
    "    \n",
    "\"\"\"\n",
    "def backtrack(res, templist, nums, remain, start):\n",
    "    if remain < 0:\n",
    "        return None\n",
    "    elif remain == 0:\n",
    "        res.append(templist)\n",
    "    else:\n",
    "        for i in range(len(nums)):\n",
    "            templist.append(nums[i])\n",
    "            backtrack(res,templist, nums, remain- nums[i], i)\n",
    "            del templist\n",
    "\n",
    "def combinationSum(nums, target):\n",
    "    res = []\n",
    "    nums.sort()\n",
    "    backtrack(res, nums, target, 0)\n",
    "\"\"\""
   ]
  },
  {
   "cell_type": "code",
   "execution_count": null,
   "metadata": {
    "collapsed": true
   },
   "outputs": [],
   "source": []
  }
 ],
 "metadata": {
  "kernelspec": {
   "display_name": "Python 3",
   "language": "python",
   "name": "python3"
  },
  "language_info": {
   "codemirror_mode": {
    "name": "ipython",
    "version": 3
   },
   "file_extension": ".py",
   "mimetype": "text/x-python",
   "name": "python",
   "nbconvert_exporter": "python",
   "pygments_lexer": "ipython3",
   "version": "3.6.3"
  }
 },
 "nbformat": 4,
 "nbformat_minor": 2
}
