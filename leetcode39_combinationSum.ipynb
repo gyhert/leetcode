{
 "cells": [
  {
   "cell_type": "code",
   "execution_count": 44,
   "metadata": {},
   "outputs": [
    {
     "name": "stdout",
     "output_type": "stream",
     "text": [
      "[2]\n",
      "[2, 2]\n",
      "[2, 2, 2]\n",
      "[2, 2, 2, 2]\n",
      "[2, 2, 2, 3]\n",
      "[2, 2, 2, 6]\n",
      "[2, 2, 2, 7]\n",
      "[2, 2, 3]\n",
      "res [[2, 2, 3]]\n",
      "[2, 2, 6]\n",
      "[2, 2, 7]\n",
      "[2, 3]\n",
      "[2, 3, 2]\n",
      "res [[2, 3, 2], [2, 3, 2]]\n",
      "[2, 3, 3]\n",
      "[2, 3, 6]\n",
      "[2, 3, 7]\n",
      "[2, 6]\n",
      "[2, 7]\n",
      "[3]\n",
      "[3, 2]\n",
      "[3, 2, 2]\n",
      "res [[3, 2, 2], [3, 2, 2], [3, 2, 2]]\n",
      "[3, 2, 3]\n",
      "[3, 2, 6]\n",
      "[3, 2, 7]\n",
      "[3, 3]\n",
      "[3, 3, 2]\n",
      "[3, 3, 3]\n",
      "[3, 3, 6]\n",
      "[3, 3, 7]\n",
      "[3, 6]\n",
      "[3, 7]\n",
      "[6]\n",
      "[6, 2]\n",
      "[6, 3]\n",
      "[6, 6]\n",
      "[6, 7]\n",
      "[7]\n",
      "res [[7], [7], [7], [7]]\n",
      "result [[], [], [], []]\n"
     ]
    }
   ],
   "source": [
    "###leetcode39 combination\n",
    "nums = [2, 3, 6, 7]\n",
    "target = 7\n",
    "res = []\n",
    "templist = []\n",
    "nums.sort()\n",
    "def backtrack(res, templist, nums, remain, start):\n",
    "    if remain < 0:\n",
    "        return None\n",
    "    elif remain == 0:\n",
    "        res += [templist]\n",
    "        print('res',res)\n",
    "    else:\n",
    "        for i in range(len(nums)):\n",
    "            #print(\"nums\",nums[i])\n",
    "            templist += [nums[i]]\n",
    "            #print(\"add\", nums[i])\n",
    "            print(templist)\n",
    "            #print(\"-----\")\n",
    "            backtrack(res, templist, nums, remain-nums[i], i)\n",
    "            #print(\"remove\", templist[-1])\n",
    "            templist.pop()\n",
    "            ##print(\"---remove---\")\n",
    "            #print(templist.pop())\n",
    "            #print(templist)\n",
    "backtrack(res, [], nums, target, 0)\n",
    "print(\"result\",res)\n"
   ]
  },
  {
   "cell_type": "code",
   "execution_count": null,
   "metadata": {
    "collapsed": true
   },
   "outputs": [],
   "source": []
  }
 ],
 "metadata": {
  "kernelspec": {
   "display_name": "Python 3",
   "language": "python",
   "name": "python3"
  },
  "language_info": {
   "codemirror_mode": {
    "name": "ipython",
    "version": 3
   },
   "file_extension": ".py",
   "mimetype": "text/x-python",
   "name": "python",
   "nbconvert_exporter": "python",
   "pygments_lexer": "ipython3",
   "version": "3.6.3"
  }
 },
 "nbformat": 4,
 "nbformat_minor": 2
}
